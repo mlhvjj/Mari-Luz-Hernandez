{
  "cells": [
    {
      "cell_type": "markdown",
      "metadata": {
        "id": "view-in-github",
        "colab_type": "text"
      },
      "source": [
        "<a href=\"https://colab.research.google.com/github/mlhvjj/mlhvjj/blob/main/Sprint%201%20Aprendizaje%20supervisado.ipynb\" target=\"_parent\"><img src=\"https://colab.research.google.com/assets/colab-badge.svg\" alt=\"Open In Colab\"/></a>"
      ]
    },
    {
      "cell_type": "code",
      "execution_count": 3,
      "metadata": {
        "id": "C4HZx7Gndbrh"
      },
      "outputs": [],
      "source": [
        "import numpy as np\n",
        "import pandas as pd\n",
        "import matplotlib.pyplot as plt\n",
        "import seaborn as sb\n",
        "import plotly.express as xp\n",
        "\n"
      ]
    },
    {
      "cell_type": "code",
      "source": [
        "file = '/content/ASI_casoPractico.csv'\n",
        "Data = pd.read_csv(file, sep = ';')\n",
        "Data.head()"
      ],
      "metadata": {
        "colab": {
          "base_uri": "https://localhost:8080/",
          "height": 300
        },
        "id": "Pne6IGQUFGQZ",
        "outputId": "59185991-fced-4746-9e27-b5ee9c8d7ecf"
      },
      "execution_count": 4,
      "outputs": [
        {
          "output_type": "execute_result",
          "data": {
            "text/plain": [
              "   ID    b     e  LBE  AC  FM  UC  ASTV  MSTV  ALTV  ...  Min  Max  Nmax  \\\n",
              "0   1  240   357  120   0   0   0    73   0.5    43  ...   62  126     2   \n",
              "1   2    5   632  132   4   0   4    17   2.1     0  ...   68  198     6   \n",
              "2   3  177   779  133   2   0   5    16   2.1     0  ...   68  198     5   \n",
              "3   4  411  1192  134   2   0   6    16   2.4     0  ...   53  170    11   \n",
              "4   5  533  1147  132   4   0   5    16   2.4     0  ...   53  170     9   \n",
              "\n",
              "   Nzeros  Mode  Mean  Median  Variance  Tendency  Target  \n",
              "0       0   120   137     121        73         1       1  \n",
              "1       1   141   136     140        12         0       0  \n",
              "2       1   141   135     138        13         0       0  \n",
              "3       0   137   134     137        13         1       0  \n",
              "4       0   137   136     138        11         1       0  \n",
              "\n",
              "[5 rows x 26 columns]"
            ],
            "text/html": [
              "\n",
              "  <div id=\"df-67549e13-8947-4bff-adaa-23bbacb4d19c\">\n",
              "    <div class=\"colab-df-container\">\n",
              "      <div>\n",
              "<style scoped>\n",
              "    .dataframe tbody tr th:only-of-type {\n",
              "        vertical-align: middle;\n",
              "    }\n",
              "\n",
              "    .dataframe tbody tr th {\n",
              "        vertical-align: top;\n",
              "    }\n",
              "\n",
              "    .dataframe thead th {\n",
              "        text-align: right;\n",
              "    }\n",
              "</style>\n",
              "<table border=\"1\" class=\"dataframe\">\n",
              "  <thead>\n",
              "    <tr style=\"text-align: right;\">\n",
              "      <th></th>\n",
              "      <th>ID</th>\n",
              "      <th>b</th>\n",
              "      <th>e</th>\n",
              "      <th>LBE</th>\n",
              "      <th>AC</th>\n",
              "      <th>FM</th>\n",
              "      <th>UC</th>\n",
              "      <th>ASTV</th>\n",
              "      <th>MSTV</th>\n",
              "      <th>ALTV</th>\n",
              "      <th>...</th>\n",
              "      <th>Min</th>\n",
              "      <th>Max</th>\n",
              "      <th>Nmax</th>\n",
              "      <th>Nzeros</th>\n",
              "      <th>Mode</th>\n",
              "      <th>Mean</th>\n",
              "      <th>Median</th>\n",
              "      <th>Variance</th>\n",
              "      <th>Tendency</th>\n",
              "      <th>Target</th>\n",
              "    </tr>\n",
              "  </thead>\n",
              "  <tbody>\n",
              "    <tr>\n",
              "      <th>0</th>\n",
              "      <td>1</td>\n",
              "      <td>240</td>\n",
              "      <td>357</td>\n",
              "      <td>120</td>\n",
              "      <td>0</td>\n",
              "      <td>0</td>\n",
              "      <td>0</td>\n",
              "      <td>73</td>\n",
              "      <td>0.5</td>\n",
              "      <td>43</td>\n",
              "      <td>...</td>\n",
              "      <td>62</td>\n",
              "      <td>126</td>\n",
              "      <td>2</td>\n",
              "      <td>0</td>\n",
              "      <td>120</td>\n",
              "      <td>137</td>\n",
              "      <td>121</td>\n",
              "      <td>73</td>\n",
              "      <td>1</td>\n",
              "      <td>1</td>\n",
              "    </tr>\n",
              "    <tr>\n",
              "      <th>1</th>\n",
              "      <td>2</td>\n",
              "      <td>5</td>\n",
              "      <td>632</td>\n",
              "      <td>132</td>\n",
              "      <td>4</td>\n",
              "      <td>0</td>\n",
              "      <td>4</td>\n",
              "      <td>17</td>\n",
              "      <td>2.1</td>\n",
              "      <td>0</td>\n",
              "      <td>...</td>\n",
              "      <td>68</td>\n",
              "      <td>198</td>\n",
              "      <td>6</td>\n",
              "      <td>1</td>\n",
              "      <td>141</td>\n",
              "      <td>136</td>\n",
              "      <td>140</td>\n",
              "      <td>12</td>\n",
              "      <td>0</td>\n",
              "      <td>0</td>\n",
              "    </tr>\n",
              "    <tr>\n",
              "      <th>2</th>\n",
              "      <td>3</td>\n",
              "      <td>177</td>\n",
              "      <td>779</td>\n",
              "      <td>133</td>\n",
              "      <td>2</td>\n",
              "      <td>0</td>\n",
              "      <td>5</td>\n",
              "      <td>16</td>\n",
              "      <td>2.1</td>\n",
              "      <td>0</td>\n",
              "      <td>...</td>\n",
              "      <td>68</td>\n",
              "      <td>198</td>\n",
              "      <td>5</td>\n",
              "      <td>1</td>\n",
              "      <td>141</td>\n",
              "      <td>135</td>\n",
              "      <td>138</td>\n",
              "      <td>13</td>\n",
              "      <td>0</td>\n",
              "      <td>0</td>\n",
              "    </tr>\n",
              "    <tr>\n",
              "      <th>3</th>\n",
              "      <td>4</td>\n",
              "      <td>411</td>\n",
              "      <td>1192</td>\n",
              "      <td>134</td>\n",
              "      <td>2</td>\n",
              "      <td>0</td>\n",
              "      <td>6</td>\n",
              "      <td>16</td>\n",
              "      <td>2.4</td>\n",
              "      <td>0</td>\n",
              "      <td>...</td>\n",
              "      <td>53</td>\n",
              "      <td>170</td>\n",
              "      <td>11</td>\n",
              "      <td>0</td>\n",
              "      <td>137</td>\n",
              "      <td>134</td>\n",
              "      <td>137</td>\n",
              "      <td>13</td>\n",
              "      <td>1</td>\n",
              "      <td>0</td>\n",
              "    </tr>\n",
              "    <tr>\n",
              "      <th>4</th>\n",
              "      <td>5</td>\n",
              "      <td>533</td>\n",
              "      <td>1147</td>\n",
              "      <td>132</td>\n",
              "      <td>4</td>\n",
              "      <td>0</td>\n",
              "      <td>5</td>\n",
              "      <td>16</td>\n",
              "      <td>2.4</td>\n",
              "      <td>0</td>\n",
              "      <td>...</td>\n",
              "      <td>53</td>\n",
              "      <td>170</td>\n",
              "      <td>9</td>\n",
              "      <td>0</td>\n",
              "      <td>137</td>\n",
              "      <td>136</td>\n",
              "      <td>138</td>\n",
              "      <td>11</td>\n",
              "      <td>1</td>\n",
              "      <td>0</td>\n",
              "    </tr>\n",
              "  </tbody>\n",
              "</table>\n",
              "<p>5 rows × 26 columns</p>\n",
              "</div>\n",
              "      <button class=\"colab-df-convert\" onclick=\"convertToInteractive('df-67549e13-8947-4bff-adaa-23bbacb4d19c')\"\n",
              "              title=\"Convert this dataframe to an interactive table.\"\n",
              "              style=\"display:none;\">\n",
              "        \n",
              "  <svg xmlns=\"http://www.w3.org/2000/svg\" height=\"24px\"viewBox=\"0 0 24 24\"\n",
              "       width=\"24px\">\n",
              "    <path d=\"M0 0h24v24H0V0z\" fill=\"none\"/>\n",
              "    <path d=\"M18.56 5.44l.94 2.06.94-2.06 2.06-.94-2.06-.94-.94-2.06-.94 2.06-2.06.94zm-11 1L8.5 8.5l.94-2.06 2.06-.94-2.06-.94L8.5 2.5l-.94 2.06-2.06.94zm10 10l.94 2.06.94-2.06 2.06-.94-2.06-.94-.94-2.06-.94 2.06-2.06.94z\"/><path d=\"M17.41 7.96l-1.37-1.37c-.4-.4-.92-.59-1.43-.59-.52 0-1.04.2-1.43.59L10.3 9.45l-7.72 7.72c-.78.78-.78 2.05 0 2.83L4 21.41c.39.39.9.59 1.41.59.51 0 1.02-.2 1.41-.59l7.78-7.78 2.81-2.81c.8-.78.8-2.07 0-2.86zM5.41 20L4 18.59l7.72-7.72 1.47 1.35L5.41 20z\"/>\n",
              "  </svg>\n",
              "      </button>\n",
              "      \n",
              "  <style>\n",
              "    .colab-df-container {\n",
              "      display:flex;\n",
              "      flex-wrap:wrap;\n",
              "      gap: 12px;\n",
              "    }\n",
              "\n",
              "    .colab-df-convert {\n",
              "      background-color: #E8F0FE;\n",
              "      border: none;\n",
              "      border-radius: 50%;\n",
              "      cursor: pointer;\n",
              "      display: none;\n",
              "      fill: #1967D2;\n",
              "      height: 32px;\n",
              "      padding: 0 0 0 0;\n",
              "      width: 32px;\n",
              "    }\n",
              "\n",
              "    .colab-df-convert:hover {\n",
              "      background-color: #E2EBFA;\n",
              "      box-shadow: 0px 1px 2px rgba(60, 64, 67, 0.3), 0px 1px 3px 1px rgba(60, 64, 67, 0.15);\n",
              "      fill: #174EA6;\n",
              "    }\n",
              "\n",
              "    [theme=dark] .colab-df-convert {\n",
              "      background-color: #3B4455;\n",
              "      fill: #D2E3FC;\n",
              "    }\n",
              "\n",
              "    [theme=dark] .colab-df-convert:hover {\n",
              "      background-color: #434B5C;\n",
              "      box-shadow: 0px 1px 3px 1px rgba(0, 0, 0, 0.15);\n",
              "      filter: drop-shadow(0px 1px 2px rgba(0, 0, 0, 0.3));\n",
              "      fill: #FFFFFF;\n",
              "    }\n",
              "  </style>\n",
              "\n",
              "      <script>\n",
              "        const buttonEl =\n",
              "          document.querySelector('#df-67549e13-8947-4bff-adaa-23bbacb4d19c button.colab-df-convert');\n",
              "        buttonEl.style.display =\n",
              "          google.colab.kernel.accessAllowed ? 'block' : 'none';\n",
              "\n",
              "        async function convertToInteractive(key) {\n",
              "          const element = document.querySelector('#df-67549e13-8947-4bff-adaa-23bbacb4d19c');\n",
              "          const dataTable =\n",
              "            await google.colab.kernel.invokeFunction('convertToInteractive',\n",
              "                                                     [key], {});\n",
              "          if (!dataTable) return;\n",
              "\n",
              "          const docLinkHtml = 'Like what you see? Visit the ' +\n",
              "            '<a target=\"_blank\" href=https://colab.research.google.com/notebooks/data_table.ipynb>data table notebook</a>'\n",
              "            + ' to learn more about interactive tables.';\n",
              "          element.innerHTML = '';\n",
              "          dataTable['output_type'] = 'display_data';\n",
              "          await google.colab.output.renderOutput(dataTable, element);\n",
              "          const docLink = document.createElement('div');\n",
              "          docLink.innerHTML = docLinkHtml;\n",
              "          element.appendChild(docLink);\n",
              "        }\n",
              "      </script>\n",
              "    </div>\n",
              "  </div>\n",
              "  "
            ]
          },
          "metadata": {},
          "execution_count": 4
        }
      ]
    },
    {
      "cell_type": "code",
      "source": [
        "Data.info()"
      ],
      "metadata": {
        "colab": {
          "base_uri": "https://localhost:8080/"
        },
        "id": "urXK0dJRG-ix",
        "outputId": "bb0b825c-f1fa-4819-b472-e29d3eb52ab4"
      },
      "execution_count": 7,
      "outputs": [
        {
          "output_type": "stream",
          "name": "stdout",
          "text": [
            "<class 'pandas.core.frame.DataFrame'>\n",
            "RangeIndex: 2126 entries, 0 to 2125\n",
            "Data columns (total 26 columns):\n",
            " #   Column    Non-Null Count  Dtype  \n",
            "---  ------    --------------  -----  \n",
            " 0   ID        2126 non-null   int64  \n",
            " 1   b         2126 non-null   int64  \n",
            " 2   e         2126 non-null   int64  \n",
            " 3   LBE       2126 non-null   int64  \n",
            " 4   AC        2126 non-null   int64  \n",
            " 5   FM        2126 non-null   int64  \n",
            " 6   UC        2126 non-null   int64  \n",
            " 7   ASTV      2126 non-null   int64  \n",
            " 8   MSTV      2126 non-null   float64\n",
            " 9   ALTV      2126 non-null   int64  \n",
            " 10  MLTV      2126 non-null   float64\n",
            " 11  DL        2126 non-null   int64  \n",
            " 12  DS        2126 non-null   int64  \n",
            " 13  DP        2126 non-null   int64  \n",
            " 14  DR        2126 non-null   int64  \n",
            " 15  Width     2126 non-null   int64  \n",
            " 16  Min       2126 non-null   int64  \n",
            " 17  Max       2126 non-null   int64  \n",
            " 18  Nmax      2126 non-null   int64  \n",
            " 19  Nzeros    2126 non-null   int64  \n",
            " 20  Mode      2126 non-null   int64  \n",
            " 21  Mean      2126 non-null   int64  \n",
            " 22  Median    2126 non-null   int64  \n",
            " 23  Variance  2126 non-null   int64  \n",
            " 24  Tendency  2126 non-null   int64  \n",
            " 25  Target    2126 non-null   int64  \n",
            "dtypes: float64(2), int64(24)\n",
            "memory usage: 432.0 KB\n"
          ]
        }
      ]
    },
    {
      "cell_type": "markdown",
      "source": [
        "Es un dataset tipo Pandas que consta de 2,126 datos y 26 variables."
      ],
      "metadata": {
        "id": "wz-dibpzHRM4"
      }
    },
    {
      "cell_type": "code",
      "source": [
        "# Clasificación de las variables según su tipo\n",
        "\n",
        "Data.dtypes"
      ],
      "metadata": {
        "colab": {
          "base_uri": "https://localhost:8080/"
        },
        "id": "t6HxHHjOHyP1",
        "outputId": "0e707184-9619-4b92-b2bb-6493a4910060"
      },
      "execution_count": 12,
      "outputs": [
        {
          "output_type": "execute_result",
          "data": {
            "text/plain": [
              "ID            int64\n",
              "b             int64\n",
              "e             int64\n",
              "LBE           int64\n",
              "AC            int64\n",
              "FM            int64\n",
              "UC            int64\n",
              "ASTV          int64\n",
              "MSTV        float64\n",
              "ALTV          int64\n",
              "MLTV        float64\n",
              "DL            int64\n",
              "DS            int64\n",
              "DP            int64\n",
              "DR            int64\n",
              "Width         int64\n",
              "Min           int64\n",
              "Max           int64\n",
              "Nmax          int64\n",
              "Nzeros        int64\n",
              "Mode          int64\n",
              "Mean          int64\n",
              "Median        int64\n",
              "Variance      int64\n",
              "Tendency      int64\n",
              "Target        int64\n",
              "dtype: object"
            ]
          },
          "metadata": {},
          "execution_count": 12
        }
      ]
    },
    {
      "cell_type": "markdown",
      "source": [
        "Todas las variables son de tipo cuantitativas (entero), de las cuales dos (MLTV Y MSTV) son variables cuantitativas continuas y el resto son cuatitativas discretas."
      ],
      "metadata": {
        "id": "YcFyl-L5In_k"
      }
    },
    {
      "cell_type": "code",
      "source": [
        "# 2. Proporción de estados fetales normales y anormales \n",
        "a,b = Data['Target'].value_counts()\n",
        "\n",
        "plt.figure(figsize = (13, 5))\n",
        "plt.subplot(121)\n",
        "plt.pie([a,b], labels = [\"Normal\", \"Anormal\"], autopct= '%1.0f%%')\n",
        "print(Data['Target'].value_counts())\n"
      ],
      "metadata": {
        "colab": {
          "base_uri": "https://localhost:8080/",
          "height": 355
        },
        "id": "puV2xau1H_yL",
        "outputId": "c9274867-80ba-408c-f351-d400f80f618a"
      },
      "execution_count": 45,
      "outputs": [
        {
          "output_type": "stream",
          "name": "stdout",
          "text": [
            "0    1655\n",
            "1     471\n",
            "Name: Target, dtype: int64\n"
          ]
        },
        {
          "output_type": "display_data",
          "data": {
            "text/plain": [
              "<Figure size 936x360 with 1 Axes>"
            ],
            "image/png": "[encoded data removed]"
          },
          "metadata": {}
        }
      ]
    },
    {
      "cell_type": "code",
      "source": [
        "# 3. Obtenga las medidas de centralización, localización y dispersión para las variables:  FM, ALTV y Median\n",
        "\n",
        "Data['FM'].describe()\n"
      ],
      "metadata": {
        "colab": {
          "base_uri": "https://localhost:8080/"
        },
        "id": "pUSJrpVoJe5x",
        "outputId": "f4a6336a-76fd-4071-9e30-f7be02d6971a"
      },
      "execution_count": 35,
      "outputs": [
        {
          "output_type": "execute_result",
          "data": {
            "text/plain": [
              "count    2126.000000\n",
              "mean        7.241298\n",
              "std        37.125309\n",
              "min         0.000000\n",
              "25%         0.000000\n",
              "50%         0.000000\n",
              "75%         2.000000\n",
              "max       564.000000\n",
              "Name: FM, dtype: float64"
            ]
          },
          "metadata": {},
          "execution_count": 35
        }
      ]
    },
    {
      "cell_type": "code",
      "source": [
        "Data['ALTV'].describe(). T"
      ],
      "metadata": {
        "colab": {
          "base_uri": "https://localhost:8080/"
        },
        "id": "8MtEw47TMqBz",
        "outputId": "c1b2ee25-88c6-4ac1-d18e-81326a53e8b5"
      },
      "execution_count": 36,
      "outputs": [
        {
          "output_type": "execute_result",
          "data": {
            "text/plain": [
              "count    2126.00000\n",
              "mean        9.84666\n",
              "std        18.39688\n",
              "min         0.00000\n",
              "25%         0.00000\n",
              "50%         0.00000\n",
              "75%        11.00000\n",
              "max        91.00000\n",
              "Name: ALTV, dtype: float64"
            ]
          },
          "metadata": {},
          "execution_count": 36
        }
      ]
    },
    {
      "cell_type": "code",
      "source": [
        "Data['Median'].describe(). T"
      ],
      "metadata": {
        "colab": {
          "base_uri": "https://localhost:8080/"
        },
        "id": "OIAwrYWcMxjV",
        "outputId": "55b86d7e-d85a-418e-c00b-5e53427a2ba9"
      },
      "execution_count": 37,
      "outputs": [
        {
          "output_type": "execute_result",
          "data": {
            "text/plain": [
              "count    2126.000000\n",
              "mean      138.090310\n",
              "std        14.466589\n",
              "min        77.000000\n",
              "25%       129.000000\n",
              "50%       139.000000\n",
              "75%       148.000000\n",
              "max       186.000000\n",
              "Name: Median, dtype: float64"
            ]
          },
          "metadata": {},
          "execution_count": 37
        }
      ]
    },
    {
      "cell_type": "code",
      "source": [
        "# 4. Obtenga el histograma para las variables: LBE, DS y Min.\n",
        "fig, ax = plt.subplots(1,1, figsize = (5,5 ))\n",
        "plt.style.use(\"seaborn\")\n",
        "Data['LBE'].hist(ax=ax)"
      ],
      "metadata": {
        "colab": {
          "base_uri": "https://localhost:8080/",
          "height": 337
        },
        "id": "vyVfdemEQIvI",
        "outputId": "473e88d6-37bc-4fff-a9f8-ed58b674b471"
      },
      "execution_count": 50,
      "outputs": [
        {
          "output_type": "execute_result",
          "data": {
            "text/plain": [
              "<matplotlib.axes._subplots.AxesSubplot at 0x7f717d8d47f0>"
            ]
          },
          "metadata": {},
          "execution_count": 50
        },
        {
          "output_type": "display_data",
          "data": {
            "text/plain": [
              "<Figure size 360x360 with 1 Axes>"
            ],
            "image/png": "[encoded data removed]"
          },
          "metadata": {}
        }
      ]
    },
    {
      "cell_type": "markdown",
      "source": [],
      "metadata": {
        "id": "MtzgxFNcTpLf"
      }
    },
    {
      "cell_type": "markdown",
      "source": [
        "A traves del gráfico se puede apreciar que la variable LBE tiene un comportamiento que tiende a ser normal. "
      ],
      "metadata": {
        "id": "kcynkdQcTpZF"
      }
    },
    {
      "cell_type": "code",
      "source": [
        "fig, ax = plt.subplots(1,1, figsize = (5,5 ))\n",
        "plt.style.use(\"seaborn\")\n",
        "Data['DS'].hist(ax=ax)\n",
        "\n",
        "a,b = Data['DS'].value_counts()\n",
        "print(Data['DS'].value_counts())\n"
      ],
      "metadata": {
        "colab": {
          "base_uri": "https://localhost:8080/",
          "height": 372
        },
        "id": "kcdGOExbTYDX",
        "outputId": "669c5cc0-0b1e-4bde-ea9a-07922e08103e"
      },
      "execution_count": 54,
      "outputs": [
        {
          "output_type": "stream",
          "name": "stdout",
          "text": [
            "0    2119\n",
            "1       7\n",
            "Name: DS, dtype: int64\n"
          ]
        },
        {
          "output_type": "display_data",
          "data": {
            "text/plain": [
              "<Figure size 360x360 with 1 Axes>"
            ],
            "image/png": "[encoded data removed]"
          },
          "metadata": {}
        }
      ]
    },
    {
      "cell_type": "markdown",
      "source": [
        "La variable de estudio es dicotómica y casi el 100% de las observaciones son cero."
      ],
      "metadata": {
        "id": "AkvlFdGwVNUL"
      }
    },
    {
      "cell_type": "code",
      "source": [
        "fig, ax = plt.subplots(1,1, figsize = (5,5 ))\n",
        "plt.style.use(\"seaborn\")\n",
        "Data['Min'].hist(ax=ax)"
      ],
      "metadata": {
        "colab": {
          "base_uri": "https://localhost:8080/",
          "height": 337
        },
        "id": "W5UAP2H4SwYm",
        "outputId": "89b9b829-ff81-4e39-e73d-d5a72fc026e9"
      },
      "execution_count": 52,
      "outputs": [
        {
          "output_type": "execute_result",
          "data": {
            "text/plain": [
              "<matplotlib.axes._subplots.AxesSubplot at 0x7f717d83a220>"
            ]
          },
          "metadata": {},
          "execution_count": 52
        },
        {
          "output_type": "display_data",
          "data": {
            "text/plain": [
              "<Figure size 360x360 with 1 Axes>"
            ],
            "image/png": "[encoded data removed]"
          },
          "metadata": {}
        }
      ]
    },
    {
      "cell_type": "code",
      "source": [
        "# 5. Obtenga un gráfico box-plot para las variables: AC, ASTV y Mean. \n",
        "Data.boxplot('AC')\n",
        "plt.title(\"Boxplot AC\")\n",
        "plt.show()"
      ],
      "metadata": {
        "colab": {
          "base_uri": "https://localhost:8080/",
          "height": 362
        },
        "id": "fDIMaay5QO59",
        "outputId": "7fb3a73d-d6db-4d09-a4ab-99fb39661092"
      },
      "execution_count": 65,
      "outputs": [
        {
          "output_type": "display_data",
          "data": {
            "text/plain": [
              "<Figure size 576x396 with 1 Axes>"
            ],
            "image/png": "[encoded data removed]"
          },
          "metadata": {}
        }
      ]
    },
    {
      "cell_type": "code",
      "source": [
        "Data.boxplot('ASTV')\n",
        "plt.title(\"Boxplot Mean\")\n",
        "plt.show()"
      ],
      "metadata": {
        "colab": {
          "base_uri": "https://localhost:8080/",
          "height": 362
        },
        "id": "4qCBgs-3adrE",
        "outputId": "0a9e0992-6cbe-4d1d-c1fb-f3a653b2da60"
      },
      "execution_count": 62,
      "outputs": [
        {
          "output_type": "display_data",
          "data": {
            "text/plain": [
              "<Figure size 576x396 with 1 Axes>"
            ],
            "image/png": "[encoded data removed]"
          },
          "metadata": {}
        }
      ]
    },
    {
      "cell_type": "code",
      "source": [
        "Data.boxplot('Mean')\n",
        "plt.title(\"Boxplot Mean\")\n",
        "plt.show()"
      ],
      "metadata": {
        "colab": {
          "base_uri": "https://localhost:8080/",
          "height": 362
        },
        "id": "i7_GWV0oafAM",
        "outputId": "e22bb8a1-8433-4441-c7ab-9f36d0954ca4"
      },
      "execution_count": 63,
      "outputs": [
        {
          "output_type": "display_data",
          "data": {
            "text/plain": [
              "<Figure size 576x396 with 1 Axes>"
            ],
            "image/png": "[encoded data removed]"
          },
          "metadata": {}
        }
      ]
    }
  ],
  "metadata": {
    "colab": {
      "name": "Te damos la bienvenida a Colaboratory",
      "provenance": [],
      "include_colab_link": true
    },
    "kernelspec": {
      "display_name": "Python 3",
      "name": "python3"
    }
  },
  "nbformat": 4,
  "nbformat_minor": 0
}